{
  "nbformat": 4,
  "nbformat_minor": 0,
  "metadata": {
    "colab": {
      "name": "TwitterSentimentAnalysis.ipynb",
      "provenance": [],
      "authorship_tag": "ABX9TyNlxcqNBr+HoGMxs3Gqc63R",
      "include_colab_link": true
    },
    "kernelspec": {
      "name": "python3",
      "display_name": "Python 3"
    }
  },
  "cells": [
    {
      "cell_type": "markdown",
      "metadata": {
        "id": "view-in-github",
        "colab_type": "text"
      },
      "source": [
        "<a href=\"https://colab.research.google.com/github/Namit-Joshi/Sentiment-Analysis/blob/master/TwitterSentimentAnalysis.ipynb\" target=\"_parent\"><img src=\"https://colab.research.google.com/assets/colab-badge.svg\" alt=\"Open In Colab\"/></a>"
      ]
    },
    {
      "cell_type": "markdown",
      "metadata": {
        "id": "vVRsA_rh-dDu",
        "colab_type": "text"
      },
      "source": [
        "# **Importing Libraries**"
      ]
    },
    {
      "cell_type": "code",
      "metadata": {
        "id": "jPzkPqic3Goh",
        "colab_type": "code",
        "colab": {}
      },
      "source": [
        "# !pip install python-twitter"
      ],
      "execution_count": 1,
      "outputs": []
    },
    {
      "cell_type": "code",
      "metadata": {
        "id": "-qCEkYmq3PZl",
        "colab_type": "code",
        "colab": {}
      },
      "source": [
        "import tweepy\n",
        "from textblob import TextBlob\n",
        "from wordcloud import WordCloud\n",
        "import pandas as pd\n",
        "import numpy as np\n",
        "import re\n",
        "import matplotlib.pyplot as plt"
      ],
      "execution_count": 2,
      "outputs": []
    },
    {
      "cell_type": "markdown",
      "metadata": {
        "id": "kKtV6c2H-l9M",
        "colab_type": "text"
      },
      "source": [
        "# **Keys for accessing the Twitter API using tweepy**"
      ]
    },
    {
      "cell_type": "code",
      "metadata": {
        "id": "PaDc6x7R3X4k",
        "colab_type": "code",
        "colab": {}
      },
      "source": [
        "consumerKey = 'VHZaxAgsQL0iJ8sVq02lszFvo'\n",
        "consumerSecret = 'zJ5eJQQxTmKGUa04FNzDNm4CfJ60jTnFmGXcs2bqmUtp01jw77'\n",
        "accessToken = '961912425053224960-Keu8couwpni60P7gUVcc5kNYtzh2x5h'\n",
        "accessTokenSecret = 'FJKHL884bBYzbXoJ2QpzGqHuc3bRIBX6l9I7Zmv56Dg38'"
      ],
      "execution_count": 3,
      "outputs": []
    },
    {
      "cell_type": "code",
      "metadata": {
        "id": "c6_IZ8TP3c5A",
        "colab_type": "code",
        "colab": {}
      },
      "source": [
        "authenticate = tweepy.OAuthHandler(consumerKey, consumerSecret) # Twitter requires all requests to use OAuth for authentication.\n",
        "    \n",
        "# Set the access token and access token secret\n",
        "authenticate.set_access_token(accessToken, accessTokenSecret) \n",
        "    \n",
        "# Creating the API object while passing in auth information\n",
        "api = tweepy.API(authenticate, wait_on_rate_limit = True)"
      ],
      "execution_count": 4,
      "outputs": []
    },
    {
      "cell_type": "markdown",
      "metadata": {
        "id": "ElH6dKn1A9YL",
        "colab_type": "text"
      },
      "source": [
        "The limit for the Search API is 180 Requests per 15 mins window for per-user authentication"
      ]
    },
    {
      "cell_type": "markdown",
      "metadata": {
        "id": "d7knTNbrAFN6",
        "colab_type": "text"
      },
      "source": [
        "\n",
        "```\n",
        "wait_on_rate_limit = True\n",
        "```\n",
        "I have set the wait_on_rate_limit flag to true. What this does is make the Tweepy API call auto wait (sleep) when it hits the rate limit and continue upon expiry of the window. This avoids to have to program this part manually, which makes the program much more simple and elegant."
      ]
    },
    {
      "cell_type": "markdown",
      "metadata": {
        "id": "709yqQm6BdZ_",
        "colab_type": "text"
      },
      "source": [
        "# **Extracting Tweets from a User**"
      ]
    },
    {
      "cell_type": "code",
      "metadata": {
        "id": "LTqc2z9k3h4R",
        "colab_type": "code",
        "colab": {
          "base_uri": "https://localhost:8080/",
          "height": 241
        },
        "outputId": "2e4b287a-50c1-4b55-ca39-574a1351e0b9"
      },
      "source": [
        "# Extract 100 tweets from the twitter user --- Elon Musk\n",
        "posts = api.user_timeline(screen_name=\"elonmusk\", count = 100, lang =\"en\", tweet_mode=\"extended\")\n",
        "\n",
        "#  Print the last 5 tweets\n",
        "print(\"Show the 5 recent tweets:\\n\")\n",
        "i=1\n",
        "for tweet in posts[:5]:\n",
        "    print(str(i) +') '+ tweet.full_text + '\\n')\n",
        "    i= i+1"
      ],
      "execution_count": 5,
      "outputs": [
        {
          "output_type": "stream",
          "text": [
            "Show the 5 recent tweets:\n",
            "\n",
            "1) @PPathole @universal_sci This might sting a little …\n",
            "\n",
            "2) @PPathole The “early investor” part of Tesla is wrong. That bs has been pushed by Eberhard (worst person I’ve ever worked with and that’s saying something!) for years.\n",
            "\n",
            "3) @universal_sci Also, there could be long period comets that intersect Earth right now. We just haven’t observed them during humanity’s (very short) recorded history. Comet S-L 9 punched a roughly Earth-sized hole in Jupiter. https://t.co/ne7DM0YAXX\n",
            "\n",
            "4) @universal_sci Pretty much\n",
            "\n",
            "5) Cybertruck option package https://t.co/6Vz4XNoHf9\n",
            "\n"
          ],
          "name": "stdout"
        }
      ]
    },
    {
      "cell_type": "code",
      "metadata": {
        "id": "f6805Oxa5kLQ",
        "colab_type": "code",
        "colab": {
          "base_uri": "https://localhost:8080/",
          "height": 204
        },
        "outputId": "471a9d2b-096a-4272-8c4c-652464e445e0"
      },
      "source": [
        "# Create a dataframe with a column called Tweets\n",
        "df = pd.DataFrame([tweet.full_text for tweet in posts], columns=['Tweets'])\n",
        "df.head()"
      ],
      "execution_count": 6,
      "outputs": [
        {
          "output_type": "execute_result",
          "data": {
            "text/html": [
              "<div>\n",
              "<style scoped>\n",
              "    .dataframe tbody tr th:only-of-type {\n",
              "        vertical-align: middle;\n",
              "    }\n",
              "\n",
              "    .dataframe tbody tr th {\n",
              "        vertical-align: top;\n",
              "    }\n",
              "\n",
              "    .dataframe thead th {\n",
              "        text-align: right;\n",
              "    }\n",
              "</style>\n",
              "<table border=\"1\" class=\"dataframe\">\n",
              "  <thead>\n",
              "    <tr style=\"text-align: right;\">\n",
              "      <th></th>\n",
              "      <th>Tweets</th>\n",
              "    </tr>\n",
              "  </thead>\n",
              "  <tbody>\n",
              "    <tr>\n",
              "      <th>0</th>\n",
              "      <td>@PPathole @universal_sci This might sting a li...</td>\n",
              "    </tr>\n",
              "    <tr>\n",
              "      <th>1</th>\n",
              "      <td>@PPathole The “early investor” part of Tesla i...</td>\n",
              "    </tr>\n",
              "    <tr>\n",
              "      <th>2</th>\n",
              "      <td>@universal_sci Also, there could be long perio...</td>\n",
              "    </tr>\n",
              "    <tr>\n",
              "      <th>3</th>\n",
              "      <td>@universal_sci Pretty much</td>\n",
              "    </tr>\n",
              "    <tr>\n",
              "      <th>4</th>\n",
              "      <td>Cybertruck option package https://t.co/6Vz4XNoHf9</td>\n",
              "    </tr>\n",
              "  </tbody>\n",
              "</table>\n",
              "</div>"
            ],
            "text/plain": [
              "                                              Tweets\n",
              "0  @PPathole @universal_sci This might sting a li...\n",
              "1  @PPathole The “early investor” part of Tesla i...\n",
              "2  @universal_sci Also, there could be long perio...\n",
              "3                         @universal_sci Pretty much\n",
              "4  Cybertruck option package https://t.co/6Vz4XNoHf9"
            ]
          },
          "metadata": {
            "tags": []
          },
          "execution_count": 6
        }
      ]
    },
    {
      "cell_type": "markdown",
      "metadata": {
        "id": "3f34H2yeBiKE",
        "colab_type": "text"
      },
      "source": [
        "# **Cleaning the Tweets**"
      ]
    },
    {
      "cell_type": "code",
      "metadata": {
        "id": "NcrIl-Bj5s9u",
        "colab_type": "code",
        "colab": {
          "base_uri": "https://localhost:8080/",
          "height": 419
        },
        "outputId": "4a03840f-ecf1-42ef-dfff-1fef9312741e"
      },
      "source": [
        "#Function to clean the tweets\n",
        "def cleanTxt(text):\n",
        " text = re.sub('@[A-Za-z0–9]+', '', text) #Removing @mentions\n",
        " text = re.sub('#', '', text) # Removing '#' hash tag\n",
        " text = re.sub('RT[\\s]+', '', text) # Removing RT\n",
        " text = re.sub('https?:\\/\\/\\S+', '', text) # Removing hyperlink\n",
        " \n",
        " return text\n",
        "\n",
        "\n",
        "# Clean the tweets\n",
        "df['Tweets'] = df['Tweets'].apply(cleanTxt)\n",
        "df"
      ],
      "execution_count": 7,
      "outputs": [
        {
          "output_type": "execute_result",
          "data": {
            "text/html": [
              "<div>\n",
              "<style scoped>\n",
              "    .dataframe tbody tr th:only-of-type {\n",
              "        vertical-align: middle;\n",
              "    }\n",
              "\n",
              "    .dataframe tbody tr th {\n",
              "        vertical-align: top;\n",
              "    }\n",
              "\n",
              "    .dataframe thead th {\n",
              "        text-align: right;\n",
              "    }\n",
              "</style>\n",
              "<table border=\"1\" class=\"dataframe\">\n",
              "  <thead>\n",
              "    <tr style=\"text-align: right;\">\n",
              "      <th></th>\n",
              "      <th>Tweets</th>\n",
              "    </tr>\n",
              "  </thead>\n",
              "  <tbody>\n",
              "    <tr>\n",
              "      <th>0</th>\n",
              "      <td>_sci This might sting a little …</td>\n",
              "    </tr>\n",
              "    <tr>\n",
              "      <th>1</th>\n",
              "      <td>The “early investor” part of Tesla is wrong. ...</td>\n",
              "    </tr>\n",
              "    <tr>\n",
              "      <th>2</th>\n",
              "      <td>_sci Also, there could be long period comets t...</td>\n",
              "    </tr>\n",
              "    <tr>\n",
              "      <th>3</th>\n",
              "      <td>_sci Pretty much</td>\n",
              "    </tr>\n",
              "    <tr>\n",
              "      <th>4</th>\n",
              "      <td>Cybertruck option package</td>\n",
              "    </tr>\n",
              "    <tr>\n",
              "      <th>...</th>\n",
              "      <td>...</td>\n",
              "    </tr>\n",
              "    <tr>\n",
              "      <th>95</th>\n",
              "      <td>And why aim your attacks at Tesla, when we’re...</td>\n",
              "    </tr>\n",
              "    <tr>\n",
              "      <th>96</th>\n",
              "      <td>That bs was pushed by oil &amp;amp; gas interests...</td>\n",
              "    </tr>\n",
              "    <tr>\n",
              "      <th>97</th>\n",
              "      <td>1 4NYGov @28delayslater  🎯</td>\n",
              "    </tr>\n",
              "    <tr>\n",
              "      <th>98</th>\n",
              "      <td>4NYGov  Good analysis. He also includes a govt...</td>\n",
              "    </tr>\n",
              "    <tr>\n",
              "      <th>99</th>\n",
              "      <td>💯</td>\n",
              "    </tr>\n",
              "  </tbody>\n",
              "</table>\n",
              "<p>100 rows × 1 columns</p>\n",
              "</div>"
            ],
            "text/plain": [
              "                                               Tweets\n",
              "0                    _sci This might sting a little …\n",
              "1    The “early investor” part of Tesla is wrong. ...\n",
              "2   _sci Also, there could be long period comets t...\n",
              "3                                    _sci Pretty much\n",
              "4                          Cybertruck option package \n",
              "..                                                ...\n",
              "95   And why aim your attacks at Tesla, when we’re...\n",
              "96   That bs was pushed by oil &amp; gas interests...\n",
              "97                         1 4NYGov @28delayslater  🎯\n",
              "98  4NYGov  Good analysis. He also includes a govt...\n",
              "99                                                  💯\n",
              "\n",
              "[100 rows x 1 columns]"
            ]
          },
          "metadata": {
            "tags": []
          },
          "execution_count": 7
        }
      ]
    },
    {
      "cell_type": "markdown",
      "metadata": {
        "id": "39ic5B3oB2rp",
        "colab_type": "text"
      },
      "source": [
        "# **Functions to get Subjectivity and Polarity**"
      ]
    },
    {
      "cell_type": "code",
      "metadata": {
        "id": "J0IkjOrD5wTy",
        "colab_type": "code",
        "colab": {
          "base_uri": "https://localhost:8080/",
          "height": 419
        },
        "outputId": "6447e899-7a33-43dd-96b7-165be8a61865"
      },
      "source": [
        "# Create a function to get the subjectivity\n",
        "def getSubjectivity(text):\n",
        "   return TextBlob(text).sentiment.subjectivity\n",
        "\n",
        "# Create a function to get the polarity\n",
        "def getPolarity(text):\n",
        "   return  TextBlob(text).sentiment.polarity\n",
        "\n",
        "# Create two new columns 'Subjectivity' & 'Polarity'\n",
        "df['Subjectivity'] = df['Tweets'].apply(getSubjectivity)\n",
        "df['Polarity'] = df['Tweets'].apply(getPolarity)\n",
        "\n",
        "df"
      ],
      "execution_count": 8,
      "outputs": [
        {
          "output_type": "execute_result",
          "data": {
            "text/html": [
              "<div>\n",
              "<style scoped>\n",
              "    .dataframe tbody tr th:only-of-type {\n",
              "        vertical-align: middle;\n",
              "    }\n",
              "\n",
              "    .dataframe tbody tr th {\n",
              "        vertical-align: top;\n",
              "    }\n",
              "\n",
              "    .dataframe thead th {\n",
              "        text-align: right;\n",
              "    }\n",
              "</style>\n",
              "<table border=\"1\" class=\"dataframe\">\n",
              "  <thead>\n",
              "    <tr style=\"text-align: right;\">\n",
              "      <th></th>\n",
              "      <th>Tweets</th>\n",
              "      <th>Subjectivity</th>\n",
              "      <th>Polarity</th>\n",
              "    </tr>\n",
              "  </thead>\n",
              "  <tbody>\n",
              "    <tr>\n",
              "      <th>0</th>\n",
              "      <td>_sci This might sting a little …</td>\n",
              "      <td>0.500000</td>\n",
              "      <td>-0.187500</td>\n",
              "    </tr>\n",
              "    <tr>\n",
              "      <th>1</th>\n",
              "      <td>The “early investor” part of Tesla is wrong. ...</td>\n",
              "      <td>0.733333</td>\n",
              "      <td>-0.466667</td>\n",
              "    </tr>\n",
              "    <tr>\n",
              "      <th>2</th>\n",
              "      <td>_sci Also, there could be long period comets t...</td>\n",
              "      <td>0.431429</td>\n",
              "      <td>0.033929</td>\n",
              "    </tr>\n",
              "    <tr>\n",
              "      <th>3</th>\n",
              "      <td>_sci Pretty much</td>\n",
              "      <td>0.600000</td>\n",
              "      <td>0.225000</td>\n",
              "    </tr>\n",
              "    <tr>\n",
              "      <th>4</th>\n",
              "      <td>Cybertruck option package</td>\n",
              "      <td>0.000000</td>\n",
              "      <td>0.000000</td>\n",
              "    </tr>\n",
              "    <tr>\n",
              "      <th>...</th>\n",
              "      <td>...</td>\n",
              "      <td>...</td>\n",
              "      <td>...</td>\n",
              "    </tr>\n",
              "    <tr>\n",
              "      <th>95</th>\n",
              "      <td>And why aim your attacks at Tesla, when we’re...</td>\n",
              "      <td>0.437500</td>\n",
              "      <td>0.187500</td>\n",
              "    </tr>\n",
              "    <tr>\n",
              "      <th>96</th>\n",
              "      <td>That bs was pushed by oil &amp;amp; gas interests...</td>\n",
              "      <td>0.100000</td>\n",
              "      <td>0.000000</td>\n",
              "    </tr>\n",
              "    <tr>\n",
              "      <th>97</th>\n",
              "      <td>1 4NYGov @28delayslater  🎯</td>\n",
              "      <td>0.000000</td>\n",
              "      <td>0.000000</td>\n",
              "    </tr>\n",
              "    <tr>\n",
              "      <th>98</th>\n",
              "      <td>4NYGov  Good analysis. He also includes a govt...</td>\n",
              "      <td>0.303000</td>\n",
              "      <td>0.147000</td>\n",
              "    </tr>\n",
              "    <tr>\n",
              "      <th>99</th>\n",
              "      <td>💯</td>\n",
              "      <td>0.000000</td>\n",
              "      <td>0.000000</td>\n",
              "    </tr>\n",
              "  </tbody>\n",
              "</table>\n",
              "<p>100 rows × 3 columns</p>\n",
              "</div>"
            ],
            "text/plain": [
              "                                               Tweets  Subjectivity  Polarity\n",
              "0                    _sci This might sting a little …      0.500000 -0.187500\n",
              "1    The “early investor” part of Tesla is wrong. ...      0.733333 -0.466667\n",
              "2   _sci Also, there could be long period comets t...      0.431429  0.033929\n",
              "3                                    _sci Pretty much      0.600000  0.225000\n",
              "4                          Cybertruck option package       0.000000  0.000000\n",
              "..                                                ...           ...       ...\n",
              "95   And why aim your attacks at Tesla, when we’re...      0.437500  0.187500\n",
              "96   That bs was pushed by oil &amp; gas interests...      0.100000  0.000000\n",
              "97                         1 4NYGov @28delayslater  🎯      0.000000  0.000000\n",
              "98  4NYGov  Good analysis. He also includes a govt...      0.303000  0.147000\n",
              "99                                                  💯      0.000000  0.000000\n",
              "\n",
              "[100 rows x 3 columns]"
            ]
          },
          "metadata": {
            "tags": []
          },
          "execution_count": 8
        }
      ]
    },
    {
      "cell_type": "markdown",
      "metadata": {
        "id": "jiCm_CPRBXcm",
        "colab_type": "text"
      },
      "source": [
        "# **Word Cloud Visualization**"
      ]
    },
    {
      "cell_type": "code",
      "metadata": {
        "id": "ZN1Lq0O150x4",
        "colab_type": "code",
        "colab": {
          "base_uri": "https://localhost:8080/",
          "height": 232
        },
        "outputId": "af5545f7-9db9-4408-cb37-a17b5ca2de08"
      },
      "source": [
        "allWords = ' '.join([twts for twts in df['Tweets']])\n",
        "wordCloud = WordCloud(width=500, height=300, random_state=21, max_font_size=110).generate(allWords)\n",
        "\n",
        "\n",
        "plt.imshow(wordCloud, interpolation=\"bilinear\")\n",
        "plt.axis('off')\n",
        "plt.show()"
      ],
      "execution_count": 9,
      "outputs": [
        {
          "output_type": "display_data",
          "data": {
            "image/png": "[encoded data removed]",
            "text/plain": [
              "<Figure size 432x288 with 1 Axes>"
            ]
          },
          "metadata": {
            "tags": [],
            "needs_background": "light"
          }
        }
      ]
    },
    {
      "cell_type": "markdown",
      "metadata": {
        "id": "MP3WrLm2CC9d",
        "colab_type": "text"
      },
      "source": [
        "# **Function to classify a tweet as positive, negative or neutral using Polarity**"
      ]
    },
    {
      "cell_type": "code",
      "metadata": {
        "id": "bdkkCqKc54AP",
        "colab_type": "code",
        "colab": {
          "base_uri": "https://localhost:8080/",
          "height": 419
        },
        "outputId": "adf38ecf-80be-477d-ddaf-95bc01b833da"
      },
      "source": [
        "# Function to compute negative (-1), neutral (0) and positive (+1) analysis\n",
        "def getAnalysis(score):\n",
        "  if score < 0:\n",
        "    return 'Negative'\n",
        "  elif score == 0:\n",
        "    return 'Neutral'\n",
        "  else:\n",
        "    return 'Positive'\n",
        "\n",
        "\n",
        "df['Analysis'] = df['Polarity'].apply(getAnalysis)\n",
        "df"
      ],
      "execution_count": 10,
      "outputs": [
        {
          "output_type": "execute_result",
          "data": {
            "text/html": [
              "<div>\n",
              "<style scoped>\n",
              "    .dataframe tbody tr th:only-of-type {\n",
              "        vertical-align: middle;\n",
              "    }\n",
              "\n",
              "    .dataframe tbody tr th {\n",
              "        vertical-align: top;\n",
              "    }\n",
              "\n",
              "    .dataframe thead th {\n",
              "        text-align: right;\n",
              "    }\n",
              "</style>\n",
              "<table border=\"1\" class=\"dataframe\">\n",
              "  <thead>\n",
              "    <tr style=\"text-align: right;\">\n",
              "      <th></th>\n",
              "      <th>Tweets</th>\n",
              "      <th>Subjectivity</th>\n",
              "      <th>Polarity</th>\n",
              "      <th>Analysis</th>\n",
              "    </tr>\n",
              "  </thead>\n",
              "  <tbody>\n",
              "    <tr>\n",
              "      <th>0</th>\n",
              "      <td>_sci This might sting a little …</td>\n",
              "      <td>0.500000</td>\n",
              "      <td>-0.187500</td>\n",
              "      <td>Negative</td>\n",
              "    </tr>\n",
              "    <tr>\n",
              "      <th>1</th>\n",
              "      <td>The “early investor” part of Tesla is wrong. ...</td>\n",
              "      <td>0.733333</td>\n",
              "      <td>-0.466667</td>\n",
              "      <td>Negative</td>\n",
              "    </tr>\n",
              "    <tr>\n",
              "      <th>2</th>\n",
              "      <td>_sci Also, there could be long period comets t...</td>\n",
              "      <td>0.431429</td>\n",
              "      <td>0.033929</td>\n",
              "      <td>Positive</td>\n",
              "    </tr>\n",
              "    <tr>\n",
              "      <th>3</th>\n",
              "      <td>_sci Pretty much</td>\n",
              "      <td>0.600000</td>\n",
              "      <td>0.225000</td>\n",
              "      <td>Positive</td>\n",
              "    </tr>\n",
              "    <tr>\n",
              "      <th>4</th>\n",
              "      <td>Cybertruck option package</td>\n",
              "      <td>0.000000</td>\n",
              "      <td>0.000000</td>\n",
              "      <td>Neutral</td>\n",
              "    </tr>\n",
              "    <tr>\n",
              "      <th>...</th>\n",
              "      <td>...</td>\n",
              "      <td>...</td>\n",
              "      <td>...</td>\n",
              "      <td>...</td>\n",
              "    </tr>\n",
              "    <tr>\n",
              "      <th>95</th>\n",
              "      <td>And why aim your attacks at Tesla, when we’re...</td>\n",
              "      <td>0.437500</td>\n",
              "      <td>0.187500</td>\n",
              "      <td>Positive</td>\n",
              "    </tr>\n",
              "    <tr>\n",
              "      <th>96</th>\n",
              "      <td>That bs was pushed by oil &amp;amp; gas interests...</td>\n",
              "      <td>0.100000</td>\n",
              "      <td>0.000000</td>\n",
              "      <td>Neutral</td>\n",
              "    </tr>\n",
              "    <tr>\n",
              "      <th>97</th>\n",
              "      <td>1 4NYGov @28delayslater  🎯</td>\n",
              "      <td>0.000000</td>\n",
              "      <td>0.000000</td>\n",
              "      <td>Neutral</td>\n",
              "    </tr>\n",
              "    <tr>\n",
              "      <th>98</th>\n",
              "      <td>4NYGov  Good analysis. He also includes a govt...</td>\n",
              "      <td>0.303000</td>\n",
              "      <td>0.147000</td>\n",
              "      <td>Positive</td>\n",
              "    </tr>\n",
              "    <tr>\n",
              "      <th>99</th>\n",
              "      <td>💯</td>\n",
              "      <td>0.000000</td>\n",
              "      <td>0.000000</td>\n",
              "      <td>Neutral</td>\n",
              "    </tr>\n",
              "  </tbody>\n",
              "</table>\n",
              "<p>100 rows × 4 columns</p>\n",
              "</div>"
            ],
            "text/plain": [
              "                                               Tweets  ...  Analysis\n",
              "0                    _sci This might sting a little …  ...  Negative\n",
              "1    The “early investor” part of Tesla is wrong. ...  ...  Negative\n",
              "2   _sci Also, there could be long period comets t...  ...  Positive\n",
              "3                                    _sci Pretty much  ...  Positive\n",
              "4                          Cybertruck option package   ...   Neutral\n",
              "..                                                ...  ...       ...\n",
              "95   And why aim your attacks at Tesla, when we’re...  ...  Positive\n",
              "96   That bs was pushed by oil &amp; gas interests...  ...   Neutral\n",
              "97                         1 4NYGov @28delayslater  🎯  ...   Neutral\n",
              "98  4NYGov  Good analysis. He also includes a govt...  ...  Positive\n",
              "99                                                  💯  ...   Neutral\n",
              "\n",
              "[100 rows x 4 columns]"
            ]
          },
          "metadata": {
            "tags": []
          },
          "execution_count": 10
        }
      ]
    },
    {
      "cell_type": "markdown",
      "metadata": {
        "id": "V5fA3dieCfwo",
        "colab_type": "text"
      },
      "source": [
        "# **Printing positive tweets**\n"
      ]
    },
    {
      "cell_type": "code",
      "metadata": {
        "id": "anJ55aUh58wY",
        "colab_type": "code",
        "colab": {
          "base_uri": "https://localhost:8080/",
          "height": 1000
        },
        "outputId": "71efcee5-8a30-49a6-cef5-c5c5e28b4da9"
      },
      "source": [
        "print('Printing positive tweets:\\n')\n",
        "j=1\n",
        "sortedDF = df.sort_values(by=['Polarity']) #Sort the tweets\n",
        "for i in range(0, sortedDF.shape[0] ):\n",
        "  if( sortedDF['Analysis'][i] == 'Positive'):\n",
        "    print(str(j) + ') '+ sortedDF['Tweets'][i])\n",
        "    print()\n",
        "    j= j+1"
      ],
      "execution_count": 11,
      "outputs": [
        {
          "output_type": "stream",
          "text": [
            "Printing positive tweets:\n",
            "\n",
            "1) _sci Also, there could be long period comets that intersect Earth right now. We just haven’t observed them during humanity’s (very short) recorded history. Comet S-L 9 punched a roughly Earth-sized hole in Jupiter. \n",
            "\n",
            "2) _sci Pretty much\n",
            "\n",
            "3)   Wow\n",
            "\n",
            "4)  That’s a great one\n",
            "\n",
            "5)  Bold move, sir, bold move\n",
            "\n",
            "6)    Thank you, Tesla is most honored!\n",
            "\n",
            "7)   Very real possibility\n",
            "\n",
            "8) History is written by the victors … except on Wikipedia haha\n",
            "\n",
            "9)  Yes. Probably more accurate to say Great Filters plural.\n",
            "\n",
            "10) We must pass The Great Filter\n",
            "\n",
            "11) Sounds right \n",
            "\n",
            "12) A truly useful exaflop at de facto FP32\n",
            "\n",
            "13)  _feed Metal has a fudge-like consistency near its melting point, so you can just smoosh it together\n",
            "\n",
            "14)   _Enough   A lot of work remains. Technically, we have it working in sim with FPGAs at ~0.01% capability. This will be a true supercomputer.\n",
            "\n",
            "15) _Enough   Your insights over the years have been excellent. That’s approximately right.\n",
            "\n",
            "16)  Absolutely, but it doesn’t seem that govt can move fast enough\n",
            "\n",
            "17)  Ok\n",
            "\n",
            "18)  It will blow ur mind haha \n",
            "\n",
            "19) Our main engineering locations are Palo Alto, Austin &amp; Seattle, but working remotely is acceptable for exceptional candidates\n",
            "\n",
            "20) Great mission patch design! \n",
            "\n",
            "21) _Truth Haha true\n",
            "\n",
            "22)   Exactly\n",
            "\n",
            "23)    Also definitely coming haha. Will only be on relatively recent cars, as we didn’t have an outside speaker until about a year ago. Can change inside sound easily.\n",
            "\n",
            "24) @_bennettm_  Yes! We’re labeling bumps &amp; potholes, so the car can slow down or steer around them when safe to do so.\n",
            "\n",
            "25)   Not perfectly at first, but yes. Will take maybe a year or so to get really good at roundabouts worldwide. The world has a zillion weird corner cases.\n",
            "\n",
            "26) Tesla is developing a NN training computer called Dojo to process truly vast amounts of video data. It’s a beast! Please consider joining our AI or computer/chip teams if this sounds interesting.\n",
            "\n",
            "27)  More software improvements coming\n",
            "\n",
            "28)  Significant improvements coming to S/X air suspension soon via software update! Will simultaneously improve performance handling &amp; ride comfort &amp; enable user customization of height &amp; damping, geocoded for relevance.\n",
            "\n",
            "29)  H2O, CH4/CO2, N2, iron, nickel, chrome, aluminum (not necessarily in that order) will matter far more than gold or platinum for space travel\n",
            "\n",
            "30) 27  The rate of improvement from original GPT to GPT-3 is impressive. If this rate of improvement continues, GPT-5 or 6 could be indistinguishable from the smartest humans. Just my opinion, not an endorsement. I left OpenAI 2 to 3 years ago. Am a neutral outsider at this point.\n",
            "\n",
            "31) : NEWS:  &amp;  are targeting no earlier than Oct. 23 for Crew Dragon’s first operational mission to the _S…\n",
            "\n",
            "32)  Impressive\n",
            "\n",
            "33)  This is important\n",
            "\n",
            "34)  Probably not faster than utility power can be restored. Powerwall/Powerpack/Megapack can certainly be helpful long-term. \n",
            "\n",
            "35) 17        Starship fairing will actually have more height than shown here. Dome will be flatter &amp; more of tip is accessible. Usable volume ~1000 cubic meters.\n",
            "\n",
            "36)  Nobody would suggest buying airplanes that only fly once &amp; then crash into the ocean. That would be absurd …\n",
            "\n",
            "37) _com I generally try my best not to be on patents\n",
            "\n",
            "38)  Will be amazing to see it in operation! Biggest casting machine ever made. Will make rear body in a single piece, including crash rails.\n",
            "\n",
            "39)  Aiming to make it super fun!\n",
            "\n",
            "40) SN7 will be new alloy test tank taken to burst pressure. SN8 will have body flaps &amp; nosecone.\n",
            "\n",
            "41) _Goldberg_  Note the fabulous plaid jacket &amp; gingham shirt combo 🤣\n",
            "\n",
            "42)  Not sure yet, but hopefully. Will need leg &amp; other repairs. Probably SN6 flies before SN5. We need to make flights simple &amp; easy — many per day.\n",
            "\n",
            "43)  Clearly\n",
            "\n",
            "44) : Spot the tiny humans!!! This shot really puts it into scale!!! A full blown Starship and SuperHeavy will be hard to fat…\n",
            "\n",
            "45)     Also true\n",
            "\n",
            "46)   Over time, since we give all employees shares, my ownership is diluted automatically. From the first financing round, where I owned ~60% of Tesla to today at ~20%, it has declined by a factor of 3.\n",
            "\n",
            "47)  And why aim your attacks at Tesla, when we’re doing more than any other company on Earth to advance green/sustainable energy? Have you read the news? \n",
            "\n",
            "48) 4NYGov  Good analysis. He also includes a govt loan for high efficiency vehicles that Tesla paid back with interest several years, unlike other auto companies.\n",
            "\n"
          ],
          "name": "stdout"
        }
      ]
    },
    {
      "cell_type": "markdown",
      "metadata": {
        "id": "kU3mMi2-C1p1",
        "colab_type": "text"
      },
      "source": [
        "# **Printing Negative Tweets**"
      ]
    },
    {
      "cell_type": "code",
      "metadata": {
        "id": "An8nKwDX6Mfy",
        "colab_type": "code",
        "colab": {
          "base_uri": "https://localhost:8080/",
          "height": 581
        },
        "outputId": "c66a35c3-e593-4117-b92a-d6dd841432ab"
      },
      "source": [
        "print('Printing negative tweets:\\n')\n",
        "j=1\n",
        "sortedDF = df.sort_values(by=['Polarity'],ascending=False) #Sort the tweets\n",
        "for i in range(0, sortedDF.shape[0] ):\n",
        "  if( sortedDF['Analysis'][i] == 'Negative'):\n",
        "    print(str(j) + ') '+sortedDF['Tweets'][i])\n",
        "    print()\n",
        "    j=j+1"
      ],
      "execution_count": 12,
      "outputs": [
        {
          "output_type": "stream",
          "text": [
            "Printing negative tweets:\n",
            "\n",
            "1)  _sci This might sting a little …\n",
            "\n",
            "2)  The “early investor” part of Tesla is wrong. That bs has been pushed by Eberhard (worst person I’ve ever worked with and that’s saying something!) for years.\n",
            "\n",
            "3) _rami   Seriously\n",
            "\n",
            "4)  _Enough  This is out of our hands, so hard to predict. Maybe on order of 10 billion km of real world driving will be enough to convince regulators.\n",
            "\n",
            "5) _Enough   Autopilot was trapped in a local maximum, labeling single camera images uncorrelated in time. Now, it is not.\n",
            "\n",
            "6)  I want to do electric vtol supersonic sooo bad, but my brain will overload\n",
            "\n",
            "7)    Sorry, this is embarrassingly late. Two factor authentication via sms or authenticator app is going through final validation right now.\n",
            "\n",
            "8)  The FSD improvement will come as a quantum leap, because it’s a fundamental architectural rewrite, not an incremental tweak. I drive the bleeding edge alpha build in my car personally. Almost at zero interventions between home &amp; work. Limited public release in 6 to 10 weeks.\n",
            "\n",
            "9)  Tesla team is working hard on increasing Powerwall production\n",
            "\n",
            "10)  Efficiently reusable rockets are all that matter for making life multiplanetary &amp; “space power”. Because their rockets are not reusable, it will become obvious over time that ULA is a complete waste of taxpayer money.\n",
            "\n",
            "11)   Sorry to hear this. What can we do to help?\n",
            "\n",
            "12)  A little toastier each flight\n",
            "\n",
            "13) SN 5 &amp; 6 at Starship Production Complex in Texas \n",
            "\n",
            "14) : Videos like this will always amaze me...\n",
            "\n",
            "Astronomer Jan Koet captured this video in 2007 of Saturn appearing behind t…\n",
            "\n"
          ],
          "name": "stdout"
        }
      ]
    },
    {
      "cell_type": "markdown",
      "metadata": {
        "id": "87409dqLC59X",
        "colab_type": "text"
      },
      "source": [
        "# **Plot of Polarity vs Subjectivity**"
      ]
    },
    {
      "cell_type": "code",
      "metadata": {
        "id": "vroK3dKC6Oqb",
        "colab_type": "code",
        "colab": {
          "base_uri": "https://localhost:8080/",
          "height": 404
        },
        "outputId": "d149d78a-7811-491e-a3a3-b9f7c4f90da3"
      },
      "source": [
        "plt.figure(figsize=(8,6)) \n",
        "for i in range(0, df.shape[0]):\n",
        "  plt.scatter(df[\"Polarity\"][i], df[\"Subjectivity\"][i], color='Blue') \n",
        "# plt.scatter(x,y,color)   \n",
        "plt.title('Sentiment Analysis') \n",
        "plt.xlabel('Polarity') \n",
        "plt.ylabel('Subjectivity') \n",
        "plt.show()"
      ],
      "execution_count": 13,
      "outputs": [
        {
          "output_type": "display_data",
          "data": {
            "image/png": "[encoded data removed]",
            "text/plain": [
              "<Figure size 576x432 with 1 Axes>"
            ]
          },
          "metadata": {
            "tags": [],
            "needs_background": "light"
          }
        }
      ]
    },
    {
      "cell_type": "markdown",
      "metadata": {
        "id": "WM_H1m4WC-4X",
        "colab_type": "text"
      },
      "source": [
        "# **% of Positive tweets**"
      ]
    },
    {
      "cell_type": "code",
      "metadata": {
        "id": "dDKtCFSy6Xj9",
        "colab_type": "code",
        "colab": {
          "base_uri": "https://localhost:8080/",
          "height": 34
        },
        "outputId": "3186ce22-32a5-4cfd-e56d-a391677dd90d"
      },
      "source": [
        "# Print the percentage of positive tweets\n",
        "ptweets = df[df.Analysis == 'Positive']\n",
        "ptweets = ptweets['Tweets']\n",
        "ptweets\n",
        "\n",
        "round( (ptweets.shape[0] / df.shape[0]) * 100 , 1)"
      ],
      "execution_count": 14,
      "outputs": [
        {
          "output_type": "execute_result",
          "data": {
            "text/plain": [
              "48.0"
            ]
          },
          "metadata": {
            "tags": []
          },
          "execution_count": 14
        }
      ]
    },
    {
      "cell_type": "markdown",
      "metadata": {
        "id": "e7mQT85DDDMF",
        "colab_type": "text"
      },
      "source": [
        "# **% of Negative Tweets**"
      ]
    },
    {
      "cell_type": "code",
      "metadata": {
        "id": "KgXIY-dU6Z0A",
        "colab_type": "code",
        "colab": {
          "base_uri": "https://localhost:8080/",
          "height": 34
        },
        "outputId": "77a1a326-17fd-4ea7-b00b-2e8c592a2ab3"
      },
      "source": [
        "ntweets = df[df.Analysis == 'Negative']\n",
        "ntweets = ntweets['Tweets']\n",
        "ntweets\n",
        "\n",
        "round( (ntweets.shape[0] / df.shape[0]) * 100, 1)\n"
      ],
      "execution_count": 15,
      "outputs": [
        {
          "output_type": "execute_result",
          "data": {
            "text/plain": [
              "14.0"
            ]
          },
          "metadata": {
            "tags": []
          },
          "execution_count": 15
        }
      ]
    },
    {
      "cell_type": "code",
      "metadata": {
        "id": "tE9XcV5n6b-3",
        "colab_type": "code",
        "colab": {
          "base_uri": "https://localhost:8080/",
          "height": 85
        },
        "outputId": "41885eb3-20ea-4c4c-b147-26c30bfaefa1"
      },
      "source": [
        "# Value Counts\n",
        "df['Analysis'].value_counts()"
      ],
      "execution_count": 16,
      "outputs": [
        {
          "output_type": "execute_result",
          "data": {
            "text/plain": [
              "Positive    48\n",
              "Neutral     38\n",
              "Negative    14\n",
              "Name: Analysis, dtype: int64"
            ]
          },
          "metadata": {
            "tags": []
          },
          "execution_count": 16
        }
      ]
    },
    {
      "cell_type": "markdown",
      "metadata": {
        "id": "h508Pn1CDMeJ",
        "colab_type": "text"
      },
      "source": [
        "# **Plotting and visualizing the counts**"
      ]
    },
    {
      "cell_type": "code",
      "metadata": {
        "id": "13_NjpZb6eGc",
        "colab_type": "code",
        "colab": {
          "base_uri": "https://localhost:8080/",
          "height": 330
        },
        "outputId": "906439a6-171e-4ab4-f5c2-292583b8955e"
      },
      "source": [
        "plt.title('Sentiment Analysis')\n",
        "plt.xlabel('Sentiment')\n",
        "plt.ylabel('Counts')\n",
        "df['Analysis'].value_counts().plot(kind = 'bar')\n",
        "plt.show()"
      ],
      "execution_count": 17,
      "outputs": [
        {
          "output_type": "display_data",
          "data": {
            "image/png": "[encoded data removed]",
            "text/plain": [
              "<Figure size 432x288 with 1 Axes>"
            ]
          },
          "metadata": {
            "tags": [],
            "needs_background": "light"
          }
        }
      ]
    },
    {
      "cell_type": "code",
      "metadata": {
        "id": "LUqHMOz66hUl",
        "colab_type": "code",
        "colab": {}
      },
      "source": [
        ""
      ],
      "execution_count": 17,
      "outputs": []
    }
  ]
}